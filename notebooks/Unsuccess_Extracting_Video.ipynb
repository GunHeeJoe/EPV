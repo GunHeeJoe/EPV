{
 "cells": [
  {
   "cell_type": "code",
   "execution_count": 1,
   "metadata": {},
   "outputs": [],
   "source": [
    "import os, sys\n",
    "from tqdm import tqdm\n",
    "sys.path.append(os.path.abspath(os.path.dirname(os.getcwd())))\n",
    "\n",
    "import numpy as np\n",
    "import pandas as pd\n",
    "import ast\n",
    "import matplotlib.pyplot as plt\n",
    "import time\n",
    "\n",
    "from src.features import intended_receiver, extract_player_pos, extract_pass\n",
    "\n",
    "# this is very useful as it makes sure that always all columns and rows of a data frame are printed\n",
    "pd.set_option(\"display.max_columns\", None)\n",
    "pd.set_option(\"display.max_rows\", None)\n",
    "\n",
    "# datatools Animator\n",
    "from datatools.metrica_helper import MetricaHelper\n",
    "from datatools.trace_animator import TraceAnimator\n",
    "from datatools.trace_helper import TraceHelper\n",
    "import datatools.matplotsoccer as mps\n",
    "plt.rcParams['animation.ffmpeg_path'] ='\"C:\\\\Users\\\\M207\\\\Desktop\\\\kang\\\\code_factory\\\\EPV_intended\\\\ffmpeg\\\\bin\\\\ffmpeg.exe\"'\n",
    "from matplotlib import animation"
   ]
  },
  {
   "cell_type": "markdown",
   "metadata": {},
   "source": [
    "### Data Loading"
   ]
  },
  {
   "cell_type": "code",
   "execution_count": 2,
   "metadata": {},
   "outputs": [],
   "source": [
    "# data loading\n",
    "match1 = pd.read_csv('../metrica-data/EPV-data/match1.csv')\n",
    "match2 = pd.read_csv('../metrica-data/EPV-data/match2.csv')\n",
    "match3 = pd.read_csv('../metrica-data/EPV-data/match3.csv')\n",
    "all_events_unsuccess = pd.read_csv('../metrica-data/EPV-data/all-match-unsuccess.csv')"
   ]
  },
  {
   "cell_type": "markdown",
   "metadata": {},
   "source": [
    "### Extracting video (Unsuccess pass)"
   ]
  },
  {
   "cell_type": "code",
   "execution_count": 3,
   "metadata": {},
   "outputs": [],
   "source": [
    "# 실패한 패스 라벨링을 위해 영상 추출 func.\n",
    "def unsuccess_to_video(helper, match_number, start_frame, end_frame):\n",
    "    traces = helper.traces[start_frame-3:end_frame+5]\n",
    "    animator = TraceAnimator(\n",
    "        trace_dict={\"main\": traces},\n",
    "        show_episodes=True,\n",
    "        show_events=True\n",
    "    )\n",
    "    anim = animator.run()\n",
    "    ani_html = anim.to_jshtml()\n",
    "\n",
    "    frame_event = helper.events\n",
    "    pass_id = frame_event[frame_event['start_frame'] == start_frame]['pass_id'].iloc[0]\n",
    "\n",
    "    with open(f'../animation/match{match_number}_{pass_id}.html', 'w') as f:\n",
    "        f.write(ani_html)"
   ]
  },
  {
   "cell_type": "code",
   "execution_count": null,
   "metadata": {},
   "outputs": [],
   "source": [
    "# Extracting for loop\n",
    "match_list = [match1, match2, match3]\n",
    "\n",
    "for i in [1, 2, 3]:\n",
    "    events = all_events_unsuccess[all_events_unsuccess['game_id']==i].copy()\n",
    "    start_end = events[['start_frame', 'end_frame']]\n",
    "    helper = MetricaHelper(traces_preprocessed=match_list[i-1], events=events)\n",
    "    count = 0\n",
    "    for index, row in tqdm(start_end.iterrows()):\n",
    "        unsuccess_to_video(helper, i, row['start_frame'], row['end_frame'])\n",
    "        count += 1\n",
    "    print(f'match {i} 의 wrong pass : {count}')"
   ]
  }
 ],
 "metadata": {
  "kernelspec": {
   "display_name": "intended",
   "language": "python",
   "name": "python3"
  },
  "language_info": {
   "codemirror_mode": {
    "name": "ipython",
    "version": 3
   },
   "file_extension": ".py",
   "mimetype": "text/x-python",
   "name": "python",
   "nbconvert_exporter": "python",
   "pygments_lexer": "ipython3",
   "version": "3.10.6"
  }
 },
 "nbformat": 4,
 "nbformat_minor": 2
}
